{
 "cells": [
  {
   "cell_type": "markdown",
   "metadata": {},
   "source": [
    "# Tutorial with basics concepts about the language Python. Is recommended access the links disponible in document for learn more.\n",
    "#### Created by Adenilson Leandro Junior, with material from internet and the great University PUC-Minas."
   ]
  },
  {
   "cell_type": "markdown",
   "metadata": {},
   "source": [
    "## 1. How works the variables:\n",
    "##### Learn more:\n",
    "* https://www.guru99.com/variables-in-python.html \n",
    "* https://www.w3schools.com/python/python_variables.asp"
   ]
  },
  {
   "cell_type": "code",
   "execution_count": null,
   "metadata": {},
   "outputs": [],
   "source": [
    "a = 1 \n",
    "type(a) #int"
   ]
  },
  {
   "cell_type": "code",
   "execution_count": null,
   "metadata": {},
   "outputs": [],
   "source": [
    "b = 2.0\n",
    "type(b) #float"
   ]
  },
  {
   "cell_type": "code",
   "execution_count": null,
   "metadata": {},
   "outputs": [],
   "source": [
    "c = True\n",
    "type(c) #boolean"
   ]
  },
  {
   "cell_type": "code",
   "execution_count": null,
   "metadata": {},
   "outputs": [],
   "source": [
    "d = 3 + 2j\n",
    "type(d) #complex"
   ]
  },
  {
   "cell_type": "code",
   "execution_count": null,
   "metadata": {},
   "outputs": [],
   "source": [
    "e = \"olá\"\n",
    "type(e) #string"
   ]
  },
  {
   "cell_type": "markdown",
   "metadata": {},
   "source": [
    "## 2. How work with lists:\n",
    "\n",
    "##### Learn more:\n",
    "* https://www.programiz.com/python-programming/list\n",
    "* https://www.w3schools.com/python/python_lists.asp"
   ]
  },
  {
   "cell_type": "code",
   "execution_count": null,
   "metadata": {},
   "outputs": [],
   "source": [
    "# 1 - Empty list\n",
    "list_empty = []\n",
    "type(list_empty)"
   ]
  },
  {
   "cell_type": "code",
   "execution_count": null,
   "metadata": {},
   "outputs": [],
   "source": [
    "# 2 - Empty list\n",
    "list_empty2 = list()\n",
    "type(list_empty2)"
   ]
  },
  {
   "cell_type": "code",
   "execution_count": null,
   "metadata": {},
   "outputs": [],
   "source": [
    "len(list_empty) # Size of list"
   ]
  },
  {
   "cell_type": "code",
   "execution_count": null,
   "metadata": {},
   "outputs": [],
   "source": [
    "# Types of list\n",
    "list_numerics = [24, 55, 3, -4, 11, 1, 16, 0, 4]\n",
    "list_type_of_real = [1.5, -2.13, 5.14]\n",
    "list_type_of_strings = [\"Carlos\", \"Python\", \"PUC Minas\", \"Ciência de Dados e Big Data\"]\n",
    "list_type_of_real_booleanos = [True, True, False, True]\n",
    "list_all_1 = [1, 2, 3.14159, \"teste1\"]\n",
    "list_all_2  = [1, 2, 3.14159, \"teste2\", [1, \"A\", 1.0]]\n",
    "list_type_of_next = [ [1, 2, 3], [4, 5, 6], [7, 8, 9]]"
   ]
  },
  {
   "cell_type": "code",
   "execution_count": null,
   "metadata": {},
   "outputs": [],
   "source": [
    "list_numerics"
   ]
  },
  {
   "cell_type": "code",
   "execution_count": null,
   "metadata": {},
   "outputs": [],
   "source": [
    "list_type_of_real"
   ]
  },
  {
   "cell_type": "code",
   "execution_count": null,
   "metadata": {},
   "outputs": [],
   "source": [
    "list_type_of_strings"
   ]
  },
  {
   "cell_type": "code",
   "execution_count": null,
   "metadata": {},
   "outputs": [],
   "source": [
    "list_type_of_real_booleanos"
   ]
  },
  {
   "cell_type": "code",
   "execution_count": null,
   "metadata": {},
   "outputs": [],
   "source": [
    "list_all_1"
   ]
  },
  {
   "cell_type": "code",
   "execution_count": null,
   "metadata": {},
   "outputs": [],
   "source": [
    "list_all_2"
   ]
  },
  {
   "cell_type": "code",
   "execution_count": null,
   "metadata": {},
   "outputs": [],
   "source": [
    "list_type_of_next"
   ]
  },
  {
   "cell_type": "code",
   "execution_count": null,
   "metadata": {},
   "outputs": [],
   "source": [
    "# Nonexistent index\n",
    "list_numerics[200]"
   ]
  },
  {
   "cell_type": "code",
   "execution_count": null,
   "metadata": {},
   "outputs": [],
   "source": [
    "# Accessing index\n",
    "list_numerics[1]"
   ]
  },
  {
   "cell_type": "code",
   "execution_count": null,
   "metadata": {},
   "outputs": [],
   "source": [
    "# Accessing SubIndex\n",
    "list_all_2[4][1]"
   ]
  },
  {
   "cell_type": "code",
   "execution_count": null,
   "metadata": {},
   "outputs": [],
   "source": [
    "# Change value in list\n",
    "list_numerics[1] = 22\n",
    "list_numerics"
   ]
  },
  {
   "cell_type": "code",
   "execution_count": null,
   "metadata": {},
   "outputs": [],
   "source": [
    "# Insert a new element in list, you cant insert a sublist in a list\n",
    "list_numerics.append(4444) \n",
    "list_numerics"
   ]
  },
  {
   "cell_type": "code",
   "execution_count": null,
   "metadata": {},
   "outputs": [],
   "source": [
    "# Clean the list\n",
    "list_type_of_real.clear()\n",
    "list_type_of_real"
   ]
  },
  {
   "cell_type": "code",
   "execution_count": null,
   "metadata": {},
   "outputs": [],
   "source": [
    "# Copies elements to a new list, as opposed to just passing copied office reference\n",
    "copia = list_numerics.copy()\n",
    "copia"
   ]
  },
  {
   "cell_type": "code",
   "execution_count": null,
   "metadata": {},
   "outputs": [],
   "source": [
    "# How many times has the item in the list\n",
    "copia.count(4444)"
   ]
  },
  {
   "cell_type": "code",
   "execution_count": null,
   "metadata": {},
   "outputs": [],
   "source": [
    "# Right way to add object list to another list\n",
    "list_all_1.extend([4,5])\n",
    "list_all_1"
   ]
  },
  {
   "cell_type": "code",
   "execution_count": null,
   "metadata": {},
   "outputs": [],
   "source": [
    "# The index method returned which position of a given element is stored\n",
    "list_all_1.index(2)"
   ]
  },
  {
   "cell_type": "code",
   "execution_count": null,
   "metadata": {},
   "outputs": [],
   "source": [
    "# The insert() method adds new items to the list\n",
    "list_all_1.insert(1, 23)\n",
    "list_all_1"
   ]
  },
  {
   "cell_type": "code",
   "execution_count": null,
   "metadata": {},
   "outputs": [],
   "source": [
    "# The pop () method removes the element from the list using the index\n",
    "list_all_1.pop(2)\n",
    "list_all_1"
   ]
  },
  {
   "cell_type": "code",
   "execution_count": null,
   "metadata": {},
   "outputs": [],
   "source": [
    "# The remove() method deletes an element with a specified value\n",
    "list_all_1.remove(\"teste1\")\n",
    "list_all_1"
   ]
  },
  {
   "cell_type": "code",
   "execution_count": null,
   "metadata": {},
   "outputs": [],
   "source": [
    "# Changing the order of list elements, descending\n",
    "list_all_1.reverse()\n",
    "list_all_1"
   ]
  },
  {
   "cell_type": "code",
   "execution_count": null,
   "metadata": {},
   "outputs": [],
   "source": [
    "# Sorting items in ascending order\n",
    "list_all_1.sort()\n",
    "list_all_1"
   ]
  },
  {
   "cell_type": "code",
   "execution_count": null,
   "metadata": {},
   "outputs": [],
   "source": [
    "# Changing the order of list elements, descending\n",
    "list_all_1.sort(reverse=True)"
   ]
  },
  {
   "cell_type": "code",
   "execution_count": null,
   "metadata": {},
   "outputs": [],
   "source": [
    "# Counting the number of items in the list len()\n",
    "len(list_type_of_real)"
   ]
  },
  {
   "cell_type": "code",
   "execution_count": null,
   "metadata": {},
   "outputs": [],
   "source": [
    "# Returning the maximum item in a list\n",
    "max(list_type_of_real)"
   ]
  },
  {
   "cell_type": "code",
   "execution_count": null,
   "metadata": {},
   "outputs": [],
   "source": [
    "# Returning the smallest item in a list\n",
    "min(list_type_of_real)"
   ]
  },
  {
   "cell_type": "code",
   "execution_count": null,
   "metadata": {},
   "outputs": [],
   "source": [
    "# Returning the sum of values from a numeric list\n",
    "sum(list_type_of_real)"
   ]
  },
  {
   "cell_type": "markdown",
   "metadata": {},
   "source": [
    "## 3. How works the tuples:\n",
    "##### Learn more:\n",
    "* https://www.tutorialspoint.com/python/python_tuples.htm\n",
    "* https://www.w3schools.com/python/python_tuples.asp\n",
    "* https://realpython.com/python-lists-tuples/"
   ]
  },
  {
   "cell_type": "code",
   "execution_count": null,
   "metadata": {},
   "outputs": [],
   "source": [
    "# Making tuplas\n",
    "first_tupla_empty = ()\n",
    "second_tupla_empty = tuple()"
   ]
  },
  {
   "cell_type": "code",
   "execution_count": null,
   "metadata": {},
   "outputs": [],
   "source": [
    "# Checking object type\n",
    "type(first_tupla_empty)"
   ]
  },
  {
   "cell_type": "code",
   "execution_count": null,
   "metadata": {},
   "outputs": [],
   "source": [
    "# Checking if is tuple type\n",
    "isinstance(second_tupla_empty, tuple)"
   ]
  },
  {
   "cell_type": "code",
   "execution_count": null,
   "metadata": {},
   "outputs": [],
   "source": [
    "# Making objects for tests\n",
    "first_tupla = (3, 19, 4, 21, 3, 5, 13)\n",
    "second_tupla = (3, 19, 4, 21, 3, 5, 13, \"tupla\", (1, 2, 3))\n",
    "third_tupla = (3, 19, 4, 21, 3, 5, 13, \"tupla\", [1, 2, 3])"
   ]
  },
  {
   "cell_type": "code",
   "execution_count": null,
   "metadata": {},
   "outputs": [],
   "source": [
    "# The tuple is constant, can't change the values\n",
    "first_tupla[0] = 1"
   ]
  },
  {
   "cell_type": "code",
   "execution_count": null,
   "metadata": {},
   "outputs": [],
   "source": [
    "# Tuple lets you add values as sublist\n",
    "third_tupla[8].extend([4,5,6])\n",
    "third_tupla"
   ]
  },
  {
   "cell_type": "code",
   "execution_count": null,
   "metadata": {},
   "outputs": [],
   "source": [
    "# Converting a tuple to list\n",
    "lst = list(first_tupla)"
   ]
  },
  {
   "cell_type": "code",
   "execution_count": null,
   "metadata": {},
   "outputs": [],
   "source": [
    "# Now you can change\n",
    "lst[3] = 2\n",
    "lst"
   ]
  },
  {
   "cell_type": "markdown",
   "metadata": {},
   "source": [
    "## 4. How works the dictionaries:\n",
    "##### Learn more:\n",
    "* https://realpython.com/python-dicts/\n",
    "* https://www.w3schools.com/python/python_dictionaries.asp\n",
    "* https://www.tutorialspoint.com/python/python_dictionary.htm"
   ]
  },
  {
   "cell_type": "code",
   "execution_count": null,
   "metadata": {},
   "outputs": [],
   "source": [
    "# Creating empty dictionaries\n",
    "first_dic_empty = {}\n",
    "second_dic_empty = dict()"
   ]
  },
  {
   "cell_type": "code",
   "execution_count": null,
   "metadata": {},
   "outputs": [],
   "source": [
    "# Checking the type\n",
    "type(first_dic_empty)"
   ]
  },
  {
   "cell_type": "code",
   "execution_count": null,
   "metadata": {},
   "outputs": [],
   "source": [
    "# Checking if the type is dictionarie\n",
    "isinstance(second_dic_empty, dict)"
   ]
  },
  {
   "cell_type": "code",
   "execution_count": null,
   "metadata": {},
   "outputs": [],
   "source": [
    "# Making objects for tests\n",
    "students_dictionary = {\"Pedro\":[31, 11, 22], \"Carlos\": [21, 31, 30], \"João\": [21, 24, 20]}\n",
    "states_dictionary = { \"SP\":\"São Paulo\", \"PR\": \"Paraná\", \"BA\": \"Bahia\", \"RN\": \"Rio Grande do Norte\", \"AM\": \"Amzonas\"}"
   ]
  },
  {
   "cell_type": "code",
   "execution_count": null,
   "metadata": {},
   "outputs": [],
   "source": [
    "students_dictionary"
   ]
  },
  {
   "cell_type": "code",
   "execution_count": null,
   "metadata": {},
   "outputs": [],
   "source": [
    "states_dictionary"
   ]
  },
  {
   "cell_type": "code",
   "execution_count": null,
   "metadata": {},
   "outputs": [],
   "source": [
    "# Accessing value of an element\n",
    "states_dictionary[\"SP\"]"
   ]
  },
  {
   "cell_type": "code",
   "execution_count": null,
   "metadata": {},
   "outputs": [],
   "source": [
    "# Accessing subelement value of an element\n",
    "students_dictionary[\"Pedro\"][0]"
   ]
  },
  {
   "cell_type": "code",
   "execution_count": null,
   "metadata": {},
   "outputs": [],
   "source": [
    "# Creating test helper dictionary\n",
    "dictionary = {1:\"João\", 2:\"Pedro\", 3:\"Carlos\", 4:\"Paulo\"}\n",
    "dictionary"
   ]
  },
  {
   "cell_type": "code",
   "execution_count": null,
   "metadata": {},
   "outputs": [],
   "source": [
    "# Limpando elementos do dictionary\n",
    "dictionary.clear()\n",
    "dictionary"
   ]
  },
  {
   "cell_type": "code",
   "execution_count": null,
   "metadata": {},
   "outputs": [],
   "source": [
    "# Criando dicionário auxiliar para testes\n",
    "dictionary = {1:\"João\", 2:\"Pedro\", 3:\"Carlos\", 4:\"Paulo\"}\n",
    "dictionary"
   ]
  },
  {
   "cell_type": "code",
   "execution_count": null,
   "metadata": {},
   "outputs": [],
   "source": [
    "# Copying a dictionary\n",
    "second_dictionary = dictionary.copy()\n",
    "second_dictionary"
   ]
  },
  {
   "cell_type": "code",
   "execution_count": null,
   "metadata": {},
   "outputs": [],
   "source": [
    "# Creating a new dictionary with values\n",
    "dictionary_impar = dict.fromkeys([3, 5, 7, 9, 11])\n",
    "dictionary_impar"
   ]
  },
  {
   "cell_type": "code",
   "execution_count": null,
   "metadata": {},
   "outputs": [],
   "source": [
    "# Creating a new dictionary with values and key\n",
    "dictionary_impar = dict.fromkeys([3, 5, 7, 9, 11], \"impar\")\n",
    "dictionary_impar"
   ]
  },
  {
   "cell_type": "code",
   "execution_count": null,
   "metadata": {},
   "outputs": [],
   "source": [
    "# Returning the value of a key\n",
    "dictionary_impar.get(3)"
   ]
  },
  {
   "cell_type": "code",
   "execution_count": null,
   "metadata": {},
   "outputs": [],
   "source": [
    "# Checking the keys\n",
    "dictionary_impar.keys()"
   ]
  },
  {
   "cell_type": "code",
   "execution_count": null,
   "metadata": {},
   "outputs": [],
   "source": [
    "# Removing a dictionary item that can be used to get the value\n",
    "dictionary_impar.pop(3)\n",
    "dictionary_impar"
   ]
  },
  {
   "cell_type": "code",
   "execution_count": null,
   "metadata": {},
   "outputs": [],
   "source": [
    "# Removing the last dictionary item\n",
    "dictionary_impar.popitem()"
   ]
  },
  {
   "cell_type": "code",
   "execution_count": null,
   "metadata": {},
   "outputs": [],
   "source": [
    "# Checking the dictionary\n",
    "dictionary_impar"
   ]
  },
  {
   "cell_type": "code",
   "execution_count": null,
   "metadata": {},
   "outputs": [],
   "source": [
    "# Checking the value of an element\n",
    "states_dictionary.setdefault(\"SP\")"
   ]
  },
  {
   "cell_type": "code",
   "execution_count": null,
   "metadata": {},
   "outputs": [],
   "source": [
    "# Checking the value of an element, and if none exists will add\n",
    "states_dictionary.setdefault(\"SC\", \"Santa Catarina\")"
   ]
  },
  {
   "cell_type": "code",
   "execution_count": null,
   "metadata": {},
   "outputs": [],
   "source": [
    "# Checking the value\n",
    "states_dictionary"
   ]
  },
  {
   "cell_type": "code",
   "execution_count": null,
   "metadata": {
    "scrolled": true
   },
   "outputs": [],
   "source": [
    "# Adding values in dictionary\n",
    "new_dictionary = {\"RJ\": \"Rio de Janeiro\"}\n",
    "states_dictionary.update(new_dictionary)\n",
    "states_dictionary"
   ]
  },
  {
   "cell_type": "code",
   "execution_count": null,
   "metadata": {},
   "outputs": [],
   "source": [
    "# Checking values from a dictionary\n",
    "states_dictionary.values()"
   ]
  },
  {
   "cell_type": "markdown",
   "metadata": {},
   "source": [
    "## 5. How works the Sets:\n",
    "##### Learn more:\n",
    "* https://www.geeksforgeeks.org/sets-in-python/\n",
    "* https://www.w3schools.com/python/python_sets.asp\n",
    "* https://www.programiz.com/python-programming/set"
   ]
  },
  {
   "cell_type": "code",
   "execution_count": null,
   "metadata": {},
   "outputs": [],
   "source": [
    "# Creating empty sets\n",
    "first_group = set() # Only way to create"
   ]
  },
  {
   "cell_type": "code",
   "execution_count": null,
   "metadata": {},
   "outputs": [],
   "source": [
    "# Creating sets with elements\n",
    "first_group = {1, 2, 3, 4, 5}\n",
    "second_group = {\"A\", \"B\", \"C\", \"D\"}\n",
    "third_group = {\"ABC\", 123, 3.14}"
   ]
  },
  {
   "cell_type": "code",
   "execution_count": null,
   "metadata": {},
   "outputs": [],
   "source": [
    "# Sets cannot contain other nested structures.\n",
    "third_group = {1, \"ABC\", [1,2,3]}"
   ]
  },
  {
   "cell_type": "code",
   "execution_count": null,
   "metadata": {},
   "outputs": [],
   "source": [
    "# Set does not work with index. You have to use a for\n",
    "for elem in first_group:\n",
    "    print(elem)"
   ]
  },
  {
   "cell_type": "code",
   "execution_count": null,
   "metadata": {},
   "outputs": [],
   "source": [
    "# Viewing\n",
    "first_group"
   ]
  },
  {
   "cell_type": "code",
   "execution_count": null,
   "metadata": {},
   "outputs": [],
   "source": [
    "# Added an element in the set and cannot change\n",
    "first_group.add(6)\n",
    "first_group"
   ]
  },
  {
   "cell_type": "code",
   "execution_count": null,
   "metadata": {},
   "outputs": [],
   "source": [
    "# Clear the set\n",
    "second_group.clear()\n",
    "second_group"
   ]
  },
  {
   "cell_type": "code",
   "execution_count": null,
   "metadata": {},
   "outputs": [],
   "source": [
    "# Copyng the set\n",
    "group = first_group.copy()\n",
    "group"
   ]
  },
  {
   "cell_type": "code",
   "execution_count": null,
   "metadata": {},
   "outputs": [],
   "source": [
    "# Making the objects g1 and g2 for tests\n",
    "g1 = {1,2,3,4,5}\n",
    "g2 = {4,5,6,7}"
   ]
  },
  {
   "cell_type": "code",
   "execution_count": null,
   "metadata": {},
   "outputs": [],
   "source": [
    "# Mathematical term and result of sets difference\n",
    "differences = g1.difference(g2)\n",
    "differences"
   ]
  },
  {
   "cell_type": "code",
   "execution_count": null,
   "metadata": {},
   "outputs": [],
   "source": [
    "# Mathematical term and result of set intersection\n",
    "intersections = g1.intersection(g2)\n",
    "intersections"
   ]
  },
  {
   "cell_type": "code",
   "execution_count": null,
   "metadata": {},
   "outputs": [],
   "source": [
    "# Checking if g1 and g2 are disjoint\n",
    "g1.isdisjoint(g2)"
   ]
  },
  {
   "cell_type": "code",
   "execution_count": null,
   "metadata": {},
   "outputs": [],
   "source": [
    "# Checking if intersections and differences are disjoint\n",
    "differences.isdisjoint(intersections)"
   ]
  },
  {
   "cell_type": "code",
   "execution_count": null,
   "metadata": {},
   "outputs": [],
   "source": [
    "# Checking if g1 is a subset of g2\n",
    "g1.issubset(g2)"
   ]
  },
  {
   "cell_type": "code",
   "execution_count": null,
   "metadata": {},
   "outputs": [],
   "source": [
    "# Checking if intersections is a subset of g1\n",
    "intersections.issubset(g1)"
   ]
  },
  {
   "cell_type": "code",
   "execution_count": null,
   "metadata": {},
   "outputs": [],
   "source": [
    "# Checking if g1 is a superset of g2\n",
    "g1.issuperset(g2)"
   ]
  },
  {
   "cell_type": "code",
   "execution_count": null,
   "metadata": {},
   "outputs": [],
   "source": [
    "# Checking if g1 is a superset of difference\n",
    "g1.issuperset(differences)"
   ]
  },
  {
   "cell_type": "code",
   "execution_count": null,
   "metadata": {},
   "outputs": [],
   "source": [
    "# Viewing\n",
    "g1"
   ]
  },
  {
   "cell_type": "code",
   "execution_count": null,
   "metadata": {},
   "outputs": [],
   "source": [
    "# Removing an item with remove (). If not, returns error\n",
    "g1.remove(1)\n",
    "g1"
   ]
  },
  {
   "cell_type": "code",
   "execution_count": null,
   "metadata": {},
   "outputs": [],
   "source": [
    "# Removing an item with discard (). If there is NO returns error\n",
    "g1.discard(5)\n",
    "g1"
   ]
  },
  {
   "cell_type": "code",
   "execution_count": null,
   "metadata": {},
   "outputs": [],
   "source": [
    "# Calculating the symmetric difference\n",
    "g5 = g1.symmetric_difference(g2)\n",
    "g5"
   ]
  },
  {
   "cell_type": "code",
   "execution_count": null,
   "metadata": {},
   "outputs": [],
   "source": [
    "# Calculating the union set\n",
    "g6 = g1.union(g2)\n",
    "g6"
   ]
  },
  {
   "cell_type": "code",
   "execution_count": null,
   "metadata": {},
   "outputs": [],
   "source": [
    "# Max\n",
    "max(g1)"
   ]
  },
  {
   "cell_type": "code",
   "execution_count": null,
   "metadata": {},
   "outputs": [],
   "source": [
    "# Min\n",
    "min(g1)"
   ]
  },
  {
   "cell_type": "code",
   "execution_count": null,
   "metadata": {},
   "outputs": [],
   "source": [
    "# Sum\n",
    "sum(g1)"
   ]
  },
  {
   "cell_type": "code",
   "execution_count": null,
   "metadata": {},
   "outputs": [],
   "source": [
    "# Len\n",
    "len(g1)"
   ]
  },
  {
   "cell_type": "code",
   "execution_count": null,
   "metadata": {},
   "outputs": [],
   "source": [
    "# Converting a list together\n",
    "lst = [1, 2, 4, 3, 2, 1, 5, 2, 3, 1, 6, 3, 4, 2]\n",
    "group_lst = set(lst)\n",
    "group_lst"
   ]
  },
  {
   "cell_type": "markdown",
   "metadata": {},
   "source": [
    "## 5. How works the Strings:\n",
    "##### Learn more:\n",
    "* https://www.w3schools.com/python/python_strings.asp\n",
    "* https://wiki.python.org.br/ManipulandoStringsComPython\n",
    "* https://www.learnpython.org/pt/Opera%C3%A7%C3%B5es_b%C3%A1sicas_de_string"
   ]
  },
  {
   "cell_type": "code",
   "execution_count": null,
   "metadata": {},
   "outputs": [],
   "source": [
    "# Using apostrophes to create a string\n",
    "'Test \"types\" of string'\n",
    "# Using quotation marks to create a string\n",
    "\"Test\""
   ]
  },
  {
   "cell_type": "code",
   "execution_count": null,
   "metadata": {},
   "outputs": [],
   "source": [
    "# Creating a variable\n",
    "test = \"Paulo\""
   ]
  },
  {
   "cell_type": "code",
   "execution_count": null,
   "metadata": {},
   "outputs": [],
   "source": [
    "# In other IDE's, the correct way to display the contents of a variable is through print.\n",
    "print(test)"
   ]
  },
  {
   "cell_type": "code",
   "execution_count": null,
   "metadata": {},
   "outputs": [],
   "source": [
    "# Checking Variable Name Type\n",
    "type(test)"
   ]
  },
  {
   "cell_type": "code",
   "execution_count": null,
   "metadata": {},
   "outputs": [],
   "source": [
    "# Returning String Length\n",
    "len(test)"
   ]
  },
  {
   "cell_type": "code",
   "execution_count": null,
   "metadata": {},
   "outputs": [],
   "source": [
    "# String Indexing\n",
    "print(test[0]) #P\n",
    "print(test[1]) #A\n",
    "print(test[2]) #U\n",
    "print(test[3]) #L\n",
    "print(test[4]) #O"
   ]
  },
  {
   "cell_type": "code",
   "execution_count": null,
   "metadata": {},
   "outputs": [],
   "source": [
    "# String indexing in reverse\n",
    "print(test[-5]) #P\n",
    "print(test[-4]) #A\n",
    "print(test[-3]) #U\n",
    "print(test[-2]) #L\n",
    "print(test[-1]) #O"
   ]
  },
  {
   "cell_type": "code",
   "execution_count": null,
   "metadata": {},
   "outputs": [],
   "source": [
    "# Accessing the character stored in the last position\n",
    "# 1a option\n",
    "print(test[4])\n",
    "# 2a option\n",
    "print(test[len(test)-1])\n",
    "# 3a option\n",
    "print(test[-1])"
   ]
  },
  {
   "cell_type": "markdown",
   "metadata": {},
   "source": [
    "## 5. How works the Slicing Strings:\n",
    "##### Learn more:\n",
    "* https://www.journaldev.com/23584/python-slice-string\n",
    "* https://www.pythoncentral.io/cutting-and-slicing-strings-in-python/\n",
    "* https://www.digitalocean.com/community/tutorials/how-to-index-and-slice-strings-in-python-3\n",
    "\n",
    "In this example `Jupyter Notebook`."
   ]
  },
  {
   "cell_type": "code",
   "execution_count": null,
   "metadata": {},
   "outputs": [],
   "source": [
    "# Resetting the string s\n",
    "s = \"Jupyter Notebook\""
   ]
  },
  {
   "cell_type": "code",
   "execution_count": null,
   "metadata": {},
   "outputs": [],
   "source": [
    "# Returning only the word Jupyter - 1st option\n",
    "s[0:7] # We're accessing the string from index 0 to index 6"
   ]
  },
  {
   "cell_type": "code",
   "execution_count": null,
   "metadata": {},
   "outputs": [],
   "source": [
    "# Returning just the word Jupyter - 2nd option\n",
    "s[-16:-9] # We're accessing the string from index -16 to index -10"
   ]
  },
  {
   "cell_type": "code",
   "execution_count": null,
   "metadata": {},
   "outputs": [],
   "source": [
    "# Returning just the word Jupyter - 3rd option\n",
    "s[:7] # We're accessing the string from the beginning to index 6"
   ]
  },
  {
   "cell_type": "code",
   "execution_count": null,
   "metadata": {},
   "outputs": [],
   "source": [
    "# Returning just the word Jupyter - 4th option\n",
    "s[:-9] # We are accessing the string from the beginning to the index -10"
   ]
  },
  {
   "cell_type": "code",
   "execution_count": null,
   "metadata": {},
   "outputs": [],
   "source": [
    "# Returning Just the Word Notebook - 1st Option\n",
    "s[8:16] # We're accessing the string from index 8 to index 15"
   ]
  },
  {
   "cell_type": "code",
   "execution_count": null,
   "metadata": {},
   "outputs": [],
   "source": [
    "# Returning Just the Word Notebook - 2nd Option\n",
    "s[-8:] # We're accessing the string s from index -16 to index -9"
   ]
  },
  {
   "cell_type": "code",
   "execution_count": null,
   "metadata": {},
   "outputs": [],
   "source": [
    "# Returning Just the Word Notebook - 3rd Option\n",
    "s[8:] # We're accessing the string from the beginning to index 6"
   ]
  },
  {
   "cell_type": "code",
   "execution_count": null,
   "metadata": {},
   "outputs": [],
   "source": [
    "# We can access non-continuous positions.\n",
    "s[0:7:2] # Characters stored in positions 0, 2, 4, and 6 will be accessed (increment entered was 2)"
   ]
  },
  {
   "cell_type": "code",
   "execution_count": null,
   "metadata": {},
   "outputs": [],
   "source": [
    "# Characters stored from start to end will be accessed, incremented by 3 (positions 0,3,6,9,12,15)\n",
    "s[::3] "
   ]
  },
  {
   "cell_type": "code",
   "execution_count": null,
   "metadata": {},
   "outputs": [],
   "source": [
    "# With negative increments we can access the string in reverse order - 1st option\n",
    "s[-1::-1] # From position -1 to the beginning, increment -1"
   ]
  },
  {
   "cell_type": "markdown",
   "metadata": {},
   "source": [
    "## 6. How works the If:\n",
    "##### Learn more:\n",
    "* https://www.w3schools.com/python/python_conditions.asp\n",
    "* http://excript.com/python/if-else-python.html\n",
    "* https://panda.ime.usp.br/cc110/static/cc110/04-if.html"
   ]
  },
  {
   "cell_type": "code",
   "execution_count": null,
   "metadata": {},
   "outputs": [],
   "source": [
    "val = 21 \n",
    "if val < 20:\n",
    "    print(\"OK-0\")\n",
    "else:\n",
    "    if val >= 20 and val <=25:\n",
    "        print(\"OK-1\")\n",
    "    else:\n",
    "        print(\"OK-2\")"
   ]
  },
  {
   "cell_type": "markdown",
   "metadata": {},
   "source": [
    "## 7. How works the While:\n",
    "##### Learn more:\n",
    "* http://excript.com/python/while-else-python.html\n",
    "* https://www.w3schools.com/python/python_while_loops.asp\n",
    "* https://www.snakify.org/pt/lessons/while_loop/"
   ]
  },
  {
   "cell_type": "code",
   "execution_count": null,
   "metadata": {},
   "outputs": [],
   "source": [
    "cont = 0\n",
    "\n",
    "while (cont < 5):\n",
    "    print(\"Count: \", cont)\n",
    "    cont = cont + 1\n",
    "    "
   ]
  },
  {
   "cell_type": "markdown",
   "metadata": {},
   "source": [
    "## 8. How works the For:\n",
    "##### Learn more:\n",
    "* https://realpython.com/python-for-loop/\n",
    "* https://www.w3schools.com/python/python_for_loops.asp\n",
    "* https://wiki.python.org/moin/ForLoop"
   ]
  },
  {
   "cell_type": "code",
   "execution_count": null,
   "metadata": {},
   "outputs": [],
   "source": [
    "word  = \"testesdepalavras\"\n",
    "for i in word:\n",
    "    print(i)"
   ]
  },
  {
   "cell_type": "code",
   "execution_count": null,
   "metadata": {},
   "outputs": [],
   "source": [
    "# Iterating over a range of values generated with a range () function\n",
    "for i in range(5):\n",
    "    print(i)"
   ]
  },
  {
   "cell_type": "code",
   "execution_count": null,
   "metadata": {},
   "outputs": [],
   "source": [
    "# For with tuples\n",
    "test = (1, 19, 5, 12, 6)\n",
    "for i in test:\n",
    "    print(i)"
   ]
  },
  {
   "cell_type": "code",
   "execution_count": null,
   "metadata": {},
   "outputs": [],
   "source": [
    "conj1 = {1, 5, 2, 6, 3, 4}\n",
    "\n",
    "for ele in conj1:\n",
    "    print(ele)"
   ]
  },
  {
   "cell_type": "code",
   "execution_count": null,
   "metadata": {},
   "outputs": [],
   "source": [
    "sets = {1, 5, 2, 6, 3, 4}\n",
    "\n",
    "for i in sets:\n",
    "    print(i)"
   ]
  },
  {
   "cell_type": "code",
   "execution_count": null,
   "metadata": {},
   "outputs": [],
   "source": [
    "# For with dictionary\n",
    "dic = { \"Sucesso\":\"Felicidade\", \"Fracasso\": \"Infelicidade\"}\n",
    "for i in dic:\n",
    "    print(i)"
   ]
  },
  {
   "cell_type": "code",
   "execution_count": null,
   "metadata": {},
   "outputs": [],
   "source": [
    "# For with dictionary\n",
    "for (i,x) in dic.items():\n",
    "    print(\"O sinonimo para {} é {}.\".format(x, i))"
   ]
  },
  {
   "cell_type": "markdown",
   "metadata": {},
   "source": [
    "## 9. How works the Def:\n",
    "##### Learn more:\n",
    "* https://www.w3schools.com/python/python_functions.asp\n",
    "* https://www.tutorialspoint.com/python/python_functions.htm\n",
    "* https://www.programiz.com/python-programming/function"
   ]
  },
  {
   "cell_type": "code",
   "execution_count": null,
   "metadata": {},
   "outputs": [],
   "source": [
    "\n",
    "def soma(*nums):\n",
    "    \"\"\"\n",
    "    Exemplo de função usando parâmetros arbitrários\n",
    "    \"\"\"\n",
    "    print(type(nums))\n",
    "    soma = 0\n",
    "    for num in nums:\n",
    "        soma += num\n",
    "    return soma"
   ]
  },
  {
   "cell_type": "code",
   "execution_count": null,
   "metadata": {},
   "outputs": [],
   "source": [
    "soma(2, 5, 4, 2, 8, 7, 1, 0, 2)"
   ]
  },
  {
   "cell_type": "code",
   "execution_count": null,
   "metadata": {},
   "outputs": [],
   "source": []
  }
 ],
 "metadata": {
  "kernelspec": {
   "display_name": "Python 3",
   "language": "python",
   "name": "python3"
  },
  "language_info": {
   "codemirror_mode": {
    "name": "ipython",
    "version": 3
   },
   "file_extension": ".py",
   "mimetype": "text/x-python",
   "name": "python",
   "nbconvert_exporter": "python",
   "pygments_lexer": "ipython3",
   "version": "3.7.4"
  }
 },
 "nbformat": 4,
 "nbformat_minor": 2
}
